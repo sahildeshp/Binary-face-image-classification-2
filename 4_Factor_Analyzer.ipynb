{
 "cells": [
  {
   "cell_type": "markdown",
   "id": "93f45260",
   "metadata": {},
   "source": [
    "**Factor Analyzer**"
   ]
  },
  {
   "cell_type": "code",
   "execution_count": 1,
   "id": "6eb2ce78",
   "metadata": {},
   "outputs": [],
   "source": [
    "#Importing Libraries\n",
    "import os\n",
    "import cv2\n",
    "import numpy as np\n",
    "from scipy.special import gamma,digamma,gammaln\n",
    "from scipy.optimize import fminbound\n",
    "from sklearn.metrics import roc_curve\n",
    "import matplotlib.pyplot as plt"
   ]
  },
  {
   "cell_type": "code",
   "execution_count": 2,
   "id": "b5c08bc0",
   "metadata": {},
   "outputs": [],
   "source": [
    "#Defining Data Paths\n",
    "np.random.seed(4)\n",
    "factor = 50\n",
    "\n",
    "facePath = \"Data Generated/face_training/\"\n",
    "nonFacePath = \"Data Generated/nonface_training/\"\n",
    "\n",
    "tfacePath = \"Data Generated/face_testing/\"\n",
    "tnonFacePath = \"Data Generated/nonface_testing/\""
   ]
  },
  {
   "cell_type": "code",
   "execution_count": 3,
   "id": "d0b3879c",
   "metadata": {},
   "outputs": [],
   "source": [
    "#Defining Gaussian PDF \n",
    "def create_gauss_pdf(X,mean,covariance,phi):\n",
    "    covariance = np.dot(phi,phi.T) + covariance\n",
    "    pdf = (1/np.sqrt(np.linalg.det(covariance))) * np.exp(-(1/2)*np.dot(np.dot((X-mean).T,np.linalg.inv(covariance)),(X-mean)))\n",
    "    return pdf"
   ]
  },
  {
   "cell_type": "code",
   "execution_count": 4,
   "id": "052ba1bf",
   "metadata": {},
   "outputs": [],
   "source": [
    "#EM Algorithm for Factor Analyzer\n",
    "\n",
    "#Expectation\n",
    "def expectation(X,mean,covariance,phi,E_h, E_hT,K):\n",
    "\n",
    "    t1 = np.dot(phi.T,np.linalg.inv(covariance))\n",
    "    t2 = np.linalg.inv(np.dot(t1,phi) + np.eye(K))\n",
    "    t3 = np.dot(np.dot(t2,phi.T),np.linalg.inv(covariance))\n",
    "    \n",
    "    for i in range(1000):\n",
    "        E_h[i] = np.dot(t3, (X[i] - mean))\n",
    "        E_hT[i] = t2 + np.dot(E_h[i],E_h[i].T)\n",
    "        \n",
    "    return E_h , E_hT\n",
    "  \n",
    "#Maximization\n",
    "def maximization(X,mean,covariance,phi,E_h, E_hT,K):\n",
    "\n",
    "    mean = mean\n",
    "    \n",
    "#Update Phi\n",
    "    t1 = 0\n",
    "    t2 = 0\n",
    "    for i in range(1000):\n",
    "        t1 += np.dot((X[i] - mean),E_h[i].T)\n",
    "        t2 += E_hT[i]\n",
    "    t2 = np.linalg.inv(t2)\n",
    "    phi = np.dot(t1,t2)\n",
    "    \n",
    "#Update Covariance\n",
    "    t6 = 0\n",
    "    for i in range(1000):\n",
    "        t3 = np.dot((X[i] - mean),(X[i] - mean).T)\n",
    "        t4 = np.dot(phi, E_h[i])\n",
    "        t5 = np.dot(t4, (X[i] - mean).T)\n",
    "        t6 += t3 - t5\n",
    "    covariance = (1/1000) * np.diag(np.diag(t6))\n",
    "    \n",
    "    \n",
    "    return mean, covariance, phi"
   ]
  },
  {
   "cell_type": "code",
   "execution_count": 5,
   "id": "efe7e105",
   "metadata": {},
   "outputs": [],
   "source": [
    "#Face data modelling\n",
    "fResized = []\n",
    "\n",
    "for i in range(1,1001):\n",
    "    image_location = facePath + str(i) + \".jpg\"\n",
    "    fImage = cv2.imread(image_location)\n",
    "    fImage = cv2.cvtColor(fImage,cv2.COLOR_BGR2GRAY)\n",
    "    fResize2 = cv2.resize(fImage,(10,10),interpolation = cv2.INTER_LINEAR)\n",
    "    fResize = (fResize2.reshape((100,1)))/factor\n",
    "    fResized.append(fResize)\n",
    "    \n",
    "#Non-Face data modelling\n",
    "nfResized = []\n",
    "for i in range(1,1001):\n",
    "    image_location2 = nonFacePath + str(i) + \".jpg\"\n",
    "    nfImage = cv2.imread(image_location2)\n",
    "    nfImage = cv2.cvtColor(nfImage,cv2.COLOR_BGR2GRAY)\n",
    "    nfResize2 = cv2.resize(nfImage,(10,10),interpolation = cv2.INTER_LINEAR)\n",
    "    nfResize = (nfResize2.reshape((100,1)))/factor \n",
    "    nfResized.append(nfResize)"
   ]
  },
  {
   "cell_type": "code",
   "execution_count": 6,
   "id": "77a67978",
   "metadata": {},
   "outputs": [],
   "source": [
    "# Initialization\n",
    "K = 30 #Number of Clusters\n",
    "D = len(fResized[0])\n",
    "\n",
    "means_f = np.sum(fResized,0)/1000\n",
    "phi_f = np.random.rand(D,K)\n",
    "covariances_f = np.array([np.random.uniform(low=0.0, high=1.0, size=(100,100)) * np.identity(100)]).reshape(100,100)\n",
    "covariances_f = np.diag(np.diag(covariances_f))\n",
    "E_h_f = np.zeros((1000,K,1))\n",
    "E_h_hT_f = np.zeros((1000,K,K))\n",
    "\n",
    "means_nf = np.sum(nfResized,0)/1000\n",
    "phi_nf = np.random.rand(D,K)\n",
    "covariances_nf = np.array([np.random.uniform(low=0.0, high=1.0, size=(100,100)) * np.identity(100)]).reshape(100,100)\n",
    "covariances_nf = np.diag(np.diag(covariances_f))\n",
    "E_h_nf = np.zeros((1000,K,1))\n",
    "E_h_hT_nf = np.zeros((1000,K,K)) "
   ]
  },
  {
   "cell_type": "code",
   "execution_count": 7,
   "id": "95671484",
   "metadata": {},
   "outputs": [],
   "source": [
    "#EM Algorithm for Face images\n",
    "for iter in range(30):\n",
    "#Expectation\n",
    "    E_h_f,E_h_hT_f = expectation(fResized,means_f,covariances_f,phi_f, E_h_f, E_h_hT_f, K)\n",
    "    # =============================================================================\n",
    "#Maximization\n",
    "    means_f, covariances_f, phi_f = maximization(fResized,means_f,covariances_f,phi_f, E_h_f, E_h_hT_f, K)"
   ]
  },
  {
   "cell_type": "code",
   "execution_count": 8,
   "id": "f9ffa288",
   "metadata": {},
   "outputs": [],
   "source": [
    "#EM Algorithm for Non-Face images\n",
    "for iter in range(30):\n",
    "#Expectation\n",
    "    E_h_nf,E_h_hT_nf = expectation(nfResized,means_nf,covariances_nf,phi_nf, E_h_nf, E_h_hT_f, K)\n",
    "#Maximization\n",
    "    means_nf, covariances_nf, phi_nf = maximization(nfResized,means_nf,covariances_nf,phi_nf, E_h_nf, E_h_hT_nf, K)"
   ]
  },
  {
   "cell_type": "code",
   "execution_count": 9,
   "id": "318aaa1e",
   "metadata": {},
   "outputs": [],
   "source": [
    "probFaceFace = []\n",
    "probFaceNonface = []\n",
    "probNonfaceFace = []\n",
    "probNonfaceNonface = []"
   ]
  },
  {
   "cell_type": "code",
   "execution_count": 10,
   "id": "e1c90e86",
   "metadata": {},
   "outputs": [],
   "source": [
    "countFace = 0\n",
    "for i in range(1,101):\n",
    "        tf_image_location = tfacePath + str(i) + \".jpg\"\n",
    "        tfImage = cv2.imread(tf_image_location)\n",
    "        tfImage = cv2.cvtColor(tfImage,cv2.COLOR_BGR2GRAY)\n",
    "        tfResize2 = cv2.resize(tfImage,(10,10),interpolation = cv2.INTER_LINEAR)\n",
    "        tfResize = (tfResize2.reshape((100,1)))/factor\n",
    "        ll_f = create_gauss_pdf(tfResize,means_f,covariances_f,phi_f)\n",
    "        ll_nf = create_gauss_pdf(tfResize,means_nf,covariances_nf,phi_nf)\n",
    "        probFaceFace.append((ll_f/(ll_f + ll_nf)).squeeze())\n",
    "        probFaceNonface.append((ll_nf/(ll_f + ll_nf)).squeeze())\n",
    "        if(ll_f > ll_nf):\n",
    "            countFace += 1"
   ]
  },
  {
   "cell_type": "code",
   "execution_count": 11,
   "id": "a7edbb73",
   "metadata": {},
   "outputs": [],
   "source": [
    "countNonFace = 0\n",
    "for i in range(1,101):\n",
    "        tnf_image_location = tnonFacePath + str(i) + \".jpg\"\n",
    "        tnfImage = cv2.imread(tnf_image_location)\n",
    "        tnfImage = cv2.cvtColor(tnfImage,cv2.COLOR_BGR2GRAY)\n",
    "        tnfResize2 = cv2.resize(tnfImage,(10,10),interpolation = cv2.INTER_LINEAR)\n",
    "        tnfResize = (tnfResize2.reshape((100,1)))/factor\n",
    "        ll_f = create_gauss_pdf(tnfResize,means_f,covariances_f,phi_f)\n",
    "        ll_nf = create_gauss_pdf(tnfResize,means_nf,covariances_nf,phi_nf)\n",
    "        probNonfaceFace.append((ll_f/(ll_f + ll_nf)).squeeze())\n",
    "        probNonfaceNonface.append((ll_nf/(ll_f + ll_nf)).squeeze())\n",
    "        if(ll_nf > ll_f):\n",
    "            countNonFace += 1"
   ]
  },
  {
   "cell_type": "code",
   "execution_count": 12,
   "id": "4f004814",
   "metadata": {},
   "outputs": [],
   "source": [
    "y_true = np.concatenate((np.ones(100),  np.zeros(100)))\n",
    "y_score = np.concatenate(( probFaceFace,  probNonfaceFace))\n",
    "fpr, tpr, thresholds = roc_curve(y_true, y_score)"
   ]
  },
  {
   "cell_type": "code",
   "execution_count": 13,
   "id": "a9702cff",
   "metadata": {
    "scrolled": true
   },
   "outputs": [
    {
     "name": "stdout",
     "output_type": "stream",
     "text": [
      "Mean for face data\n"
     ]
    },
    {
     "data": {
      "image/png": "[encoded data removed]",
      "text/plain": [
       "<Figure size 432x288 with 1 Axes>"
      ]
     },
     "metadata": {
      "needs_background": "light"
     },
     "output_type": "display_data"
    },
    {
     "name": "stdout",
     "output_type": "stream",
     "text": [
      "Covariance for face data\n"
     ]
    },
    {
     "data": {
      "image/png": "[encoded data removed]",
      "text/plain": [
       "<Figure size 432x288 with 1 Axes>"
      ]
     },
     "metadata": {
      "needs_background": "light"
     },
     "output_type": "display_data"
    },
    {
     "name": "stdout",
     "output_type": "stream",
     "text": [
      "Mean for non-face data\n"
     ]
    },
    {
     "data": {
      "image/png": "[encoded data removed]",
      "text/plain": [
       "<Figure size 432x288 with 1 Axes>"
      ]
     },
     "metadata": {
      "needs_background": "light"
     },
     "output_type": "display_data"
    },
    {
     "name": "stdout",
     "output_type": "stream",
     "text": [
      "Covariance for face data\n"
     ]
    },
    {
     "data": {
      "image/png": "[encoded data removed]",
      "text/plain": [
       "<Figure size 432x288 with 1 Axes>"
      ]
     },
     "metadata": {
      "needs_background": "light"
     },
     "output_type": "display_data"
    },
    {
     "name": "stdout",
     "output_type": "stream",
     "text": [
      "True Positives: 100\n",
      "False Negatives: 0\n",
      "True Negatives: 86\n",
      "False Positives: 14\n",
      "Accuracy: 0.93\n",
      "Misclassification Rate: 0.07\n"
     ]
    },
    {
     "data": {
      "text/plain": [
       "Text(0.5, 1.0, 'Receiver Operating Characteristics')"
      ]
     },
     "execution_count": 13,
     "metadata": {},
     "output_type": "execute_result"
    },
    {
     "data": {
      "image/png": "[encoded data removed]",
      "text/plain": [
       "<Figure size 432x288 with 1 Axes>"
      ]
     },
     "metadata": {
      "needs_background": "light"
     },
     "output_type": "display_data"
    }
   ],
   "source": [
    "#Display mean and covariance for face data\n",
    "Mean_Face = cv2.resize((means_f*factor).reshape(10,10),(20,20)).astype('uint8')\n",
    "print(\"Mean for face data\")\n",
    "plt.imshow(Mean_Face,cmap=\"gray\")\n",
    "plt.show()\n",
    "Covar_Face = (covariances_f*factor).astype('uint8')\n",
    "print(\"Covariance for face data\")\n",
    "plt.imshow(Covar_Face,cmap=\"gray\")\n",
    "plt.show()\n",
    "\n",
    "# cv2.imwrite(\"Mean_F_factor.jpg\",cv2.resize((means_f*factor).reshape(10,10),(100,100)).astype('uint8'))\n",
    "# cv2.imwrite(\"Covariance_F_factor.jpg\",cv2.resize((covariances_f*factor),(20,20)).astype('uint8'))\n",
    "\n",
    "#Display mean and covariance for non-face data\n",
    "\n",
    "Mean_NonFace = cv2.resize((means_nf*factor).reshape(10,10),(100,100)).astype('uint8')\n",
    "print(\"Mean for non-face data\")\n",
    "plt.imshow(Mean_NonFace,cmap=\"gray\")\n",
    "plt.show()\n",
    "Covar_NonFace = (covariances_nf*factor).astype('uint8')\n",
    "print(\"Covariance for face data\")\n",
    "plt.imshow(Covar_NonFace,cmap=\"gray\")\n",
    "plt.show()\n",
    "\n",
    "# cv2.imwrite(\"Mean_NF_factor.jpg\",cv2.resize((means_nf*factor).reshape(10,10),(100,100)).astype('uint8'))\n",
    "# cv2.imwrite(\"Covariance_NF_factor.jpg\",cv2.resize((covariances_nf*factor),(20,20)).astype('uint8'))\n",
    "\n",
    "\n",
    "print(\"True Positives:\", countFace)\n",
    "print(\"False Negatives:\", 100 - countFace)\n",
    "\n",
    "print(\"True Negatives:\",countNonFace)\n",
    "print(\"False Positives:\", 100 - countNonFace)\n",
    "\n",
    "print(\"Accuracy:\", (countFace + countNonFace)/200)\n",
    "print(\"Misclassification Rate:\",(200 - (countFace + countNonFace)) / 200)\n",
    "\n",
    "plt.plot(fpr, tpr)\n",
    "plt.xlim([0.0, 1.0])\n",
    "plt.ylim([0.0, 1.0])\n",
    "plt.xlabel('False Positive Rate')\n",
    "plt.ylabel('True Positive Rate')\n",
    "plt.title('Receiver Operating Characteristics')"
   ]
  }
 ],
 "metadata": {
  "kernelspec": {
   "display_name": "Python 3 (ipykernel)",
   "language": "python",
   "name": "python3"
  },
  "language_info": {
   "codemirror_mode": {
    "name": "ipython",
    "version": 3
   },
   "file_extension": ".py",
   "mimetype": "text/x-python",
   "name": "python",
   "nbconvert_exporter": "python",
   "pygments_lexer": "ipython3",
   "version": "3.8.5"
  }
 },
 "nbformat": 4,
 "nbformat_minor": 5
}
