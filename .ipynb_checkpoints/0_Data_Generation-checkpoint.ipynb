{
 "cells": [
  {
   "cell_type": "markdown",
   "id": "39a83169",
   "metadata": {},
   "source": [
    "# ECE 763 Project 1 - Sahil Deshpande\n",
    "(200375597)"
   ]
  },
  {
   "cell_type": "markdown",
   "id": "437dc7e0",
   "metadata": {},
   "source": [
    "Creating training and testing data"
   ]
  },
  {
   "cell_type": "code",
   "execution_count": 1,
   "id": "1aa19cdf",
   "metadata": {},
   "outputs": [],
   "source": [
    "#Importing Libraries\n",
    "import cv2\n",
    "import numpy as np"
   ]
  },
  {
   "cell_type": "code",
   "execution_count": 2,
   "id": "69951b9b",
   "metadata": {},
   "outputs": [],
   "source": [
    "imagePath = \"originalPics/\"\n",
    "#Test Path\n",
    "test_path = 'FDDB-folds\\FDDB-folds\\FDDB-fold-10-ellipseList.txt'\n",
    "\n",
    "#Combining Text files for training data\n",
    "filenames = ['FDDB-folds\\FDDB-folds\\FDDB-fold-04-ellipseList.txt','FDDB-folds\\FDDB-folds\\FDDB-fold-05-ellipseList.txt', 'FDDB-folds\\FDDB-folds\\FDDB-fold-06-ellipseList.txt','FDDB-folds\\FDDB-folds\\FDDB-fold-07-ellipseList.txt','FDDB-folds\\FDDB-folds\\FDDB-fold-08-ellipseList.txt','FDDB-folds\\FDDB-folds\\FDDB-fold-09-ellipseList.txt']\n",
    "with open('FDDB-folds\\FDDB-folds\\combined', 'w') as outfile:\n",
    "    for fname in filenames:\n",
    "        with open(fname) as infile:\n",
    "            for line in infile:\n",
    "                outfile.write(line)\n",
    "#Training Path\n",
    "training_path = 'FDDB-folds\\FDDB-folds\\Combined'\n",
    "\n",
    "#Define image size required\n",
    "img_size = 20"
   ]
  },
  {
   "cell_type": "code",
   "execution_count": 3,
   "id": "31fc11c9",
   "metadata": {},
   "outputs": [],
   "source": [
    "#Creating the Dataset\n",
    "def data_creation(filepath,flag):\n",
    "\n",
    "    fp = open(filepath)\n",
    "    line = fp.readline()\n",
    "    cnt = 1\n",
    "\n",
    "    while (line):\n",
    "        imgPath = imagePath + line.strip()\n",
    "        image = cv2.imread(imgPath + \".jpg\")\n",
    "        line = fp.readline()\n",
    "\n",
    "        if(line.strip() == '1'):\n",
    "            line = fp.readline()\n",
    "\n",
    "            words = []\n",
    "            for i in line.split():\n",
    "                words.append(i)\n",
    "\n",
    "            major_rad = int(float(words[0]))\n",
    "            minor_rad = int(float(words[1]))\n",
    "            angle = float(words[2])\n",
    "            centre_x = int(float(words[3]))\n",
    "            centre_y = int(float(words[4]))\n",
    "            \n",
    "            ux = major_rad * np.cos(angle);\n",
    "            uy = major_rad * np.sin(angle);\n",
    "            vx = minor_rad * np.cos(angle + np.pi/2);\n",
    "            vy = minor_rad * np.sin(angle + np.pi/2);\n",
    "            box_halfwidth = np.sqrt(ux*ux + vx*vx);\n",
    "            box_halfheight = np.sqrt(uy*uy + vy*vy);\n",
    "            box_ul_corner_x = int(centre_x - box_halfwidth)\n",
    "            box_ul_corner_y = int(centre_y - box_halfheight)\n",
    "            box_br_corner_x = int(centre_x + box_halfwidth)\n",
    "            box_br_corner_y = int(centre_y + box_halfheight)\n",
    "            \n",
    "            face1 = image[box_ul_corner_y:box_br_corner_y,box_ul_corner_x:box_br_corner_x]\n",
    "            nFace1 = image[box_ul_corner_x - 30:box_ul_corner_x - 10,box_ul_corner_y:box_ul_corner_y+20]\n",
    "            \n",
    "            \n",
    "            if(face1.shape[0] > 50 and face1.shape[1] > 50 and nFace1.shape[0] ==img_size  and nFace1.shape[0] ==img_size):\n",
    "                face1 = cv2.resize(face1,(img_size,img_size))\n",
    "                if flag == 0:\n",
    "                    cv2.imwrite(\"Data Generated/nonface_training/\" + str(cnt) +\".jpg\",nFace1)\n",
    "                    cv2.imwrite(\"Data Generated/face_training/\" + str(cnt) +\".jpg\",face1)\n",
    "                    cnt += 1\n",
    "                elif flag == 1:\n",
    "                    cv2.imwrite(\"Data Generated/nonface_testing/\" + str(cnt) + \".jpg\", nFace1)\n",
    "                    cv2.imwrite(\"Data Generated/face_testing/\" + str(cnt) + \".jpg\", face1)\n",
    "                    cnt += 1\n",
    "\n",
    "            line = fp.readline()\n",
    "\n",
    "        else:\n",
    "            word_count = int(line.strip())\n",
    "            for j in range(word_count):\n",
    "                next(fp)\n",
    "            line = fp.readline()\n",
    "        imgPath = 0"
   ]
  }
 ],
 "metadata": {
  "kernelspec": {
   "display_name": "Python 3 (ipykernel)",
   "language": "python",
   "name": "python3"
  },
  "language_info": {
   "codemirror_mode": {
    "name": "ipython",
    "version": 3
   },
   "file_extension": ".py",
   "mimetype": "text/x-python",
   "name": "python",
   "nbconvert_exporter": "python",
   "pygments_lexer": "ipython3",
   "version": "3.8.5"
  }
 },
 "nbformat": 4,
 "nbformat_minor": 5
}
