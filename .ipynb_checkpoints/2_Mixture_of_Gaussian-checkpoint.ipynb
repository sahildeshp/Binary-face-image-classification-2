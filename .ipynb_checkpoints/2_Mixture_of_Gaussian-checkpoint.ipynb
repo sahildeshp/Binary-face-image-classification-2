{
 "cells": [
  {
   "cell_type": "markdown",
   "id": "4e1e8b8f",
   "metadata": {},
   "source": [
    "**Mixture of Gaussian**"
   ]
  },
  {
   "cell_type": "code",
   "execution_count": 1,
   "id": "8c49dd5a",
   "metadata": {},
   "outputs": [],
   "source": [
    "#Importing Libraries\n",
    "import os\n",
    "import cv2\n",
    "import numpy as np\n",
    "from numpy import matlib \n",
    "from sklearn.metrics import roc_curve\n",
    "#from sklearn.metrics import auc\n",
    "import matplotlib.pyplot as plt"
   ]
  },
  {
   "cell_type": "code",
   "execution_count": 2,
   "id": "4fb0a53b",
   "metadata": {},
   "outputs": [],
   "source": [
    "#Defining data paths\n",
    "normalizing_factor = 50\n",
    "\n",
    "facePath = \"Data Generated/face_training/\"\n",
    "nonFacePath = \"Data Generated/nonface_training/\"\n",
    "\n",
    "tfacePath = \"Data Generated/face_testing/\"\n",
    "tnonFacePath = \"Data Generated/nonface_testing/\""
   ]
  },
  {
   "cell_type": "code",
   "execution_count": 3,
   "id": "40790373",
   "metadata": {},
   "outputs": [],
   "source": [
    "np.random.seed(4)"
   ]
  },
  {
   "cell_type": "code",
   "execution_count": 4,
   "id": "0527967e",
   "metadata": {},
   "outputs": [],
   "source": [
    "#Creating Gaussian function\n",
    "def create_gauss_pdf(X,mean,covariance):\n",
    "    pdf = -0.5*(np.dot(np.dot((X - mean).T,np.linalg.inv(covariance)),(X - mean))) - 0.5*np.log(np.linalg.det(covariance))\n",
    "    return pdf"
   ]
  },
  {
   "cell_type": "code",
   "execution_count": 5,
   "id": "d9e0b9f9",
   "metadata": {},
   "outputs": [],
   "source": [
    "#Defining EM Algorithm\n",
    "def expectation(X,mean,covariance,weights,K):\n",
    "    r = np.zeros((K,len(X)))\n",
    "    for i in range(len(X)):\n",
    "        den = 0\n",
    "        for j in range(K):\n",
    "            den += weights[j] * create_gauss_pdf(X[i], mean[j], covariance[j])\n",
    "        for k in range(K):\n",
    "            num = weights[k] * create_gauss_pdf(X[i], mean[k], covariance[k])\n",
    "            r[k][i] = num/den\n",
    "    return r\n",
    "\n",
    "def maximization(X,mean,covariance,weights,K,r):\n",
    "    \n",
    "#Update weights\n",
    "    num = np.sum(r,1)\n",
    "    den = np.sum(num)\n",
    "    for i in range(K):\n",
    "        weights[i] = num[i]/den\n",
    "    \n",
    "#Update mean\n",
    "    for k in range(K):\n",
    "        num = 0\n",
    "        den = 0\n",
    "        for i in range(len(X)):\n",
    "            num += r[k][i] * X[i]\n",
    "            den += r[k][i]\n",
    "        mean[k] = num/den    \n",
    "    \n",
    "#Update covariance\n",
    "    for k in range(K):\n",
    "        num = 0\n",
    "        den = 0\n",
    "        for i in range(len(X)):\n",
    "            num_ = np.dot((X[i] - mean[k]),(X[i] - mean[k]).T)\n",
    "            num +=  r[k][i] * num_\n",
    "            den += r[k][i]\n",
    "        covariance[k] = num/den\n",
    "        covariance[k] = np.diag(np.diag(covariance[k]))\n",
    "    \n",
    "    return weights, mean, covariance\n"
   ]
  },
  {
   "cell_type": "code",
   "execution_count": 6,
   "id": "c9c84426",
   "metadata": {},
   "outputs": [],
   "source": [
    "#Face data modelling\n",
    "fResized = []\n",
    "\n",
    "for i in range(1,1001):\n",
    "    image_location = facePath + str(i) + \".jpg\"\n",
    "    fImage = cv2.imread(image_location)\n",
    "    fImage = cv2.cvtColor(fImage,cv2.COLOR_BGR2GRAY)\n",
    "    fResize2 = cv2.resize(fImage,(10,10),interpolation = cv2.INTER_LINEAR)\n",
    "    fResize = (fResize2.reshape((100,1)))/normalizing_factor\n",
    "    fResized.append(fResize)\n",
    "    \n",
    "#Non-Face data modelling\n",
    "nfResized = []\n",
    "for i in range(1,1001):\n",
    "    image_location2 = nonFacePath + str(i) + \".jpg\"\n",
    "    nfImage = cv2.imread(image_location2)\n",
    "    nfImage = cv2.cvtColor(nfImage,cv2.COLOR_BGR2GRAY)\n",
    "    #nfImage = nfImage[:,:,0]\n",
    "    nfResize2 = cv2.resize(nfImage,(10,10),interpolation = cv2.INTER_LINEAR)\n",
    "    nfResize = (nfResize2.reshape((100,1)))/normalizing_factor \n",
    "    nfResized.append(nfResize)"
   ]
  },
  {
   "cell_type": "code",
   "execution_count": 7,
   "id": "1dfaf288",
   "metadata": {},
   "outputs": [],
   "source": [
    "#Initialize Parameters\n",
    "\n",
    "#Defining Number of Clusters:\n",
    "K = 3 \n",
    "\n",
    "D = len(fResized[0])\n",
    "epsilon = 0.1 \n",
    "\n",
    "means_f = np.zeros((K,D,1))\n",
    "covariances_f = np.array([np.random.uniform(low=0.0, high=1.0, size=(D,D)) * np.identity(D) for k in range(K)])\n",
    "weights_f = np.matlib.repmat((1/K),K,1).squeeze()\n",
    "r_f = np.zeros((K,len(fResized)))\n",
    "\n",
    "\n",
    "means_nf = np.zeros((K,D,1))\n",
    "covariances_nf = np.array([np.random.uniform(low=0.0, high=1.0, size=(D,D)) * np.identity(D) for k in range(K)])\n",
    "weights_nf = np.matlib.repmat((1/K),K,1).squeeze()\n",
    "r_nf = np.zeros((K,len(nfResized)))"
   ]
  },
  {
   "cell_type": "code",
   "execution_count": 8,
   "id": "1f24608c",
   "metadata": {},
   "outputs": [],
   "source": [
    "# Calculate face image likelihood\n",
    "thresh_f = np.zeros((1,len(fResized)))\n",
    "for i in range(len(fResized)):\n",
    "    den_ = 0\n",
    "    for j in range(K):\n",
    "        den_ += weights_f[j] * create_gauss_pdf(fResized[i], means_f[j], covariances_f[j])\n",
    "    thresh_f[0][i] = den_\n",
    "ll_old_f = np.sum(thresh_f,1)\n",
    "\n",
    "\n",
    "# EM Algorithm for face images\n",
    "for iter in range(10):\n",
    "#Expectation\n",
    "    r_f = expectation(fResized,means_f, covariances_f,weights_f,K)\n",
    "    \n",
    "#Maximization\n",
    "    weights_f, means_f, covariances_f = maximization(fResized,means_f,covariances_f,weights_f, K, r_f)\n",
    "    \n",
    "    thresh_new_f = np.zeros((1,len(fResized)))\n",
    "    for i in range(len(fResized)):\n",
    "        den = 0\n",
    "        for j in range(K):\n",
    "            den += weights_f[j] * create_gauss_pdf(fResized[i], means_f[j], covariances_f[j])\n",
    "        thresh_new_f[0][i] = den\n",
    "    ll_new_f = np.sum(thresh_new_f,1)"
   ]
  },
  {
   "cell_type": "code",
   "execution_count": 9,
   "id": "0afe4007",
   "metadata": {},
   "outputs": [],
   "source": [
    "# Calculate non-face image likelihood\n",
    "\n",
    "thresh_nf = np.zeros((1,len(nfResized)))\n",
    "for i in range(len(nfResized)):\n",
    "    den_ = 0\n",
    "    for j in range(K):\n",
    "        den_ += weights_f[j] * create_gauss_pdf(fResized[i], means_f[j], covariances_f[j])\n",
    "    thresh_nf[0][i] = den_\n",
    "\n",
    "ll_old_nf = np.sum(thresh_f,1)\n",
    "\n",
    "#EM Algortithm for non-face images\n",
    "\n",
    "for iter in range(10):\n",
    "#Expectation\n",
    "    r_nf = expectation(nfResized,means_nf, covariances_nf,weights_nf,K)\n",
    "\n",
    "#Maximization\n",
    "    weights_nf, means_nf, covariances_nf = maximization(nfResized,means_nf,covariances_nf,weights_nf, K, r_nf)\n",
    "    \n",
    "    thresh_new_nf = np.zeros((1,len(nfResized)))\n",
    "    for i in range(len(nfResized)):\n",
    "        den = 0\n",
    "        for j in range(K):\n",
    "            den += weights_nf[j] * create_gauss_pdf(nfResized[i], means_nf[j], covariances_nf[j])\n",
    "        thresh_new_nf[0][i] = den\n",
    "    ll_new_nf = np.sum(thresh_new_nf,1)"
   ]
  },
  {
   "cell_type": "code",
   "execution_count": 10,
   "id": "8b3d7ed4",
   "metadata": {},
   "outputs": [],
   "source": [
    "probFaceFace = []\n",
    "probFaceNonface = []\n",
    "probNonfaceFace = []\n",
    "probNonfaceNonface = []"
   ]
  },
  {
   "cell_type": "code",
   "execution_count": 11,
   "id": "86c2baed",
   "metadata": {},
   "outputs": [],
   "source": [
    "countFace = 0\n",
    "\n",
    "for i in range(1,101):\n",
    "        tf_image_location = tfacePath + str(i) + \".jpg\"\n",
    "        tfImage = cv2.imread(tf_image_location)\n",
    "        tfImage = cv2.cvtColor(tfImage,cv2.COLOR_BGR2GRAY)\n",
    "        tfResize2 = cv2.resize(tfImage,(10,10),interpolation = cv2.INTER_LINEAR)\n",
    "        tfResize = (tfResize2.reshape((100,1)))/normalizing_factor\n",
    "\n",
    "        ll_f = 0\n",
    "        ll_nf = 0\n",
    "        for k in range(K):\n",
    "            ll_f += weights_f[k] * create_gauss_pdf(tfResize,means_f[k], covariances_f[k])\n",
    "        for j in range(K):\n",
    "            ll_nf += weights_nf[j] * create_gauss_pdf(tfResize,means_nf[j], covariances_nf[j])\n",
    "        probFaceFace.append((ll_f/(ll_f + ll_nf)).squeeze())\n",
    "        probFaceNonface.append((ll_nf/(ll_f + ll_nf)).squeeze())\n",
    "        if(ll_f > ll_nf):\n",
    "            countFace += 1"
   ]
  },
  {
   "cell_type": "code",
   "execution_count": 12,
   "id": "fde5683e",
   "metadata": {},
   "outputs": [],
   "source": [
    "countNonFace = 0\n",
    "\n",
    "for i in range(1,101):\n",
    "        tnf_image_location = tnonFacePath + str(i) + \".jpg\"\n",
    "        tnfImage = cv2.imread(tnf_image_location)\n",
    "        tnfImage = cv2.cvtColor(tnfImage,cv2.COLOR_BGR2GRAY)\n",
    "        tnfResize2 = cv2.resize(tnfImage,(10,10),interpolation = cv2.INTER_LINEAR)\n",
    "        tnfResize = (tnfResize2.reshape((100,1)))/normalizing_factor\n",
    "        \n",
    "        ll_f = 0\n",
    "        ll_nf = 0\n",
    "        for k in range(K):\n",
    "            ll_f += weights_f[k] * create_gauss_pdf(tnfResize,means_f[k], covariances_f[k])\n",
    "        for j in range(K):\n",
    "            ll_nf += weights_nf[j] * create_gauss_pdf(tnfResize,means_nf[j], covariances_nf[j])\n",
    "        probNonfaceFace.append((ll_f/(ll_f + ll_nf)).squeeze())\n",
    "        probNonfaceNonface.append((ll_nf/(ll_f + ll_nf)).squeeze())\n",
    "        if(ll_nf > ll_f):\n",
    "            countNonFace += 1"
   ]
  },
  {
   "cell_type": "code",
   "execution_count": 13,
   "id": "c8e2e8f4",
   "metadata": {},
   "outputs": [],
   "source": [
    "y_true = np.concatenate((np.ones(100),  np.zeros(100)))\n",
    "y_score = np.concatenate(( probFaceFace,  probNonfaceFace))\n",
    "\n",
    "tpr, fpr, thresholds = roc_curve(y_true, y_score)"
   ]
  },
  {
   "cell_type": "code",
   "execution_count": 14,
   "id": "b3b70646",
   "metadata": {
    "scrolled": true
   },
   "outputs": [
    {
     "name": "stdout",
     "output_type": "stream",
     "text": [
      "True Positives: 85\n",
      "False Negatives: 15\n",
      "True Negatives: 63\n",
      "False Positives: 37\n",
      "Accuracy: 0.74\n",
      "Misclassification Rate: 0.26\n"
     ]
    },
    {
     "data": {
      "text/plain": [
       "Text(0.5, 1.0, 'Receiver Operating Characteristics')"
      ]
     },
     "execution_count": 14,
     "metadata": {},
     "output_type": "execute_result"
    },
    {
     "data": {
      "image/png": "[encoded data removed]",
      "text/plain": [
       "<Figure size 432x288 with 1 Axes>"
      ]
     },
     "metadata": {
      "needs_background": "light"
     },
     "output_type": "display_data"
    }
   ],
   "source": [
    "# cv2.imwrite(\"Mean_F_gmm_1.jpg\",cv2.resize((means_f[0]*normalizing_factor).reshape(10,10),(100,100)).astype('uint8'))\n",
    "# cv2.imwrite(\"Mean_F_gmm_2.jpg\",cv2.resize((means_f[1]*normalizing_factor).reshape(10,10),(100,100)).astype('uint8'))\n",
    "# cv2.imwrite(\"Mean_F_gmm_3.jpg\",cv2.resize((means_f[2]*normalizing_factor).reshape(10,10),(100,100)).astype('uint8'))\n",
    "# cv2.imwrite(\"Covariance_F_gmm_1.jpg\",cv2.resize((covariances_f[0]*normalizing_factor),(20,20)).astype('uint8'))\n",
    "# cv2.imwrite(\"Covariance_F_gmm_2.jpg\",cv2.resize((covariances_f[1]*normalizing_factor),(20,20)).astype('uint8'))\n",
    "# cv2.imwrite(\"Covariance_F_gmm_3.jpg\",cv2.resize((covariances_f[2]*normalizing_factor),(20,20)).astype('uint8'))\n",
    "\n",
    "# cv2.imwrite(\"Mean_NF_gmm_1.jpg\",cv2.resize((means_nf[0]*normalizing_factor).reshape(10,10),(100,100)).astype('uint8'))\n",
    "# cv2.imwrite(\"Mean_NF_gmm_2.jpg\",cv2.resize((means_nf[1]*normalizing_factor).reshape(10,10),(100,100)).astype('uint8'))\n",
    "# cv2.imwrite(\"Mean_NF_gmm_3.jpg\",cv2.resize((means_nf[2]*normalizing_factor).reshape(10,10),(100,100)).astype('uint8'))\n",
    "# cv2.imwrite(\"Covariance_NF_gmm_1.jpg\",cv2.resize((covariances_nf[0]*normalizing_factor),(20,20)).astype('uint8'))\n",
    "# cv2.imwrite(\"Covariance_NF_gmm_2.jpg\",cv2.resize((covariances_nf[1]*normalizing_factor),(20,20)).astype('uint8'))\n",
    "# cv2.imwrite(\"Covariance_NF_gmm_3.jpg\",cv2.resize((covariances_nf[2]*normalizing_factor),(20,20)).astype('uint8'))\n",
    "\n",
    "\n",
    "print(\"True Positives:\", countFace)\n",
    "print(\"False Negatives:\", 100 - countFace)\n",
    "\n",
    "print(\"True Negatives:\",countNonFace)\n",
    "print(\"False Positives:\", 100 - countNonFace)\n",
    "\n",
    "print(\"Accuracy:\", (countFace + countNonFace)/200)\n",
    "print(\"Misclassification Rate:\",(200 - (countFace + countNonFace)) / 200)\n",
    "\n",
    "plt.plot(fpr, tpr)\n",
    "plt.xlim([0.0, 1.0])\n",
    "plt.ylim([0.0, 1.0])\n",
    "plt.xlabel('False Positive Rate')\n",
    "plt.ylabel('True Positive Rate')\n",
    "plt.title('Receiver Operating Characteristics')"
   ]
  },
  {
   "cell_type": "code",
   "execution_count": null,
   "id": "59563113",
   "metadata": {},
   "outputs": [],
   "source": []
  }
 ],
 "metadata": {
  "kernelspec": {
   "display_name": "Python 3 (ipykernel)",
   "language": "python",
   "name": "python3"
  },
  "language_info": {
   "codemirror_mode": {
    "name": "ipython",
    "version": 3
   },
   "file_extension": ".py",
   "mimetype": "text/x-python",
   "name": "python",
   "nbconvert_exporter": "python",
   "pygments_lexer": "ipython3",
   "version": "3.8.5"
  }
 },
 "nbformat": 4,
 "nbformat_minor": 5
}
