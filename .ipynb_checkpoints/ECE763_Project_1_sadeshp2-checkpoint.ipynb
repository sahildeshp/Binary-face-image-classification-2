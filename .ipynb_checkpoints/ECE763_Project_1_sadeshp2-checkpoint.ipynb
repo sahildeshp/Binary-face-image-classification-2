{
 "cells": [
  {
   "cell_type": "markdown",
   "id": "39a83169",
   "metadata": {},
   "source": [
    "# ECE 763 Project 1 - Sahil Deshpande\n",
    "(200375597)"
   ]
  },
  {
   "cell_type": "markdown",
   "id": "437dc7e0",
   "metadata": {},
   "source": [
    "Creating training and testing data"
   ]
  },
  {
   "cell_type": "code",
   "execution_count": 1,
   "id": "1aa19cdf",
   "metadata": {},
   "outputs": [],
   "source": [
    "#Importing Libraries\n",
    "import cv2\n",
    "import numpy as np"
   ]
  },
  {
   "cell_type": "code",
   "execution_count": 2,
   "id": "69951b9b",
   "metadata": {},
   "outputs": [],
   "source": [
    "imagePath = \"originalPics/\"\n",
    "#Test Path\n",
    "test_path = 'FDDB-folds\\FDDB-folds\\FDDB-fold-10-ellipseList.txt'\n",
    "\n",
    "#Combining Text files for training data\n",
    "filenames = ['FDDB-folds\\FDDB-folds\\FDDB-fold-04-ellipseList.txt','FDDB-folds\\FDDB-folds\\FDDB-fold-05-ellipseList.txt', 'FDDB-folds\\FDDB-folds\\FDDB-fold-06-ellipseList.txt','FDDB-folds\\FDDB-folds\\FDDB-fold-07-ellipseList.txt','FDDB-folds\\FDDB-folds\\FDDB-fold-08-ellipseList.txt','FDDB-folds\\FDDB-folds\\FDDB-fold-09-ellipseList.txt']\n",
    "with open('FDDB-folds\\FDDB-folds\\combined', 'w') as outfile:\n",
    "    for fname in filenames:\n",
    "        with open(fname) as infile:\n",
    "            for line in infile:\n",
    "                outfile.write(line)\n",
    "#Training Path\n",
    "training_path = 'FDDB-folds\\FDDB-folds\\Combined'\n",
    "\n",
    "#Define image size required\n",
    "img_size = 20"
   ]
  },
  {
   "cell_type": "code",
   "execution_count": 3,
   "id": "31fc11c9",
   "metadata": {},
   "outputs": [],
   "source": [
    "def data_creation(filepath,flag):\n",
    "\n",
    "    fp = open(filepath)\n",
    "    line = fp.readline()\n",
    "    cnt = 1\n",
    "\n",
    "    while (line):\n",
    "        imgPath = imagePath + line.strip()\n",
    "        image = cv2.imread(imgPath + \".jpg\")\n",
    "        line = fp.readline()\n",
    "\n",
    "        if(line.strip() == '1'):\n",
    "            line = fp.readline()\n",
    "\n",
    "            words = []\n",
    "            for i in line.split():\n",
    "                words.append(i)\n",
    "\n",
    "            major_rad = int(float(words[0]))\n",
    "            minor_rad = int(float(words[1]))\n",
    "            angle = float(words[2])\n",
    "            centre_x = int(float(words[3]))\n",
    "            centre_y = int(float(words[4]))\n",
    "            \n",
    "            ux = major_rad * np.cos(angle);\n",
    "            uy = major_rad * np.sin(angle);\n",
    "            vx = minor_rad * np.cos(angle + np.pi/2);\n",
    "            vy = minor_rad * np.sin(angle + np.pi/2);\n",
    "            box_halfwidth = np.sqrt(ux*ux + vx*vx);\n",
    "            box_halfheight = np.sqrt(uy*uy + vy*vy);\n",
    "            box_ul_corner_x = int(centre_x - box_halfwidth)\n",
    "            box_ul_corner_y = int(centre_y - box_halfheight)\n",
    "            box_br_corner_x = int(centre_x + box_halfwidth)\n",
    "            box_br_corner_y = int(centre_y + box_halfheight)\n",
    "            \n",
    "            face1 = image[box_ul_corner_y:box_br_corner_y,box_ul_corner_x:box_br_corner_x]\n",
    "            nFace1 = image[box_ul_corner_x - 30:box_ul_corner_x - 10,box_ul_corner_y:box_ul_corner_y+20]\n",
    "            \n",
    "            \n",
    "            if(face1.shape[0] > 50 and face1.shape[1] > 50 and nFace1.shape[0] ==img_size  and nFace1.shape[0] ==img_size):\n",
    "                face1 = cv2.resize(face1,(img_size,img_size))\n",
    "                if flag == 0:\n",
    "                    cv2.imwrite(\"Data Generated/nonface_training/\" + str(cnt) +\".jpg\",nFace1)\n",
    "                    cv2.imwrite(\"Data Generated/face_training/\" + str(cnt) +\".jpg\",face1)\n",
    "                    cnt += 1\n",
    "                elif flag == 1:\n",
    "                    cv2.imwrite(\"Data Generated/nonface_testing/\" + str(cnt) + \".jpg\", nFace1)\n",
    "                    cv2.imwrite(\"Data Generated/face_testing/\" + str(cnt) + \".jpg\", face1)\n",
    "                    cnt += 1\n",
    "\n",
    "            line = fp.readline()\n",
    "\n",
    "        else:\n",
    "            word_count = int(line.strip())\n",
    "            for j in range(word_count):\n",
    "                next(fp)\n",
    "            line = fp.readline()\n",
    "        imgPath = 0"
   ]
  },
  {
   "cell_type": "code",
   "execution_count": 4,
   "id": "4e341706",
   "metadata": {},
   "outputs": [
    {
     "name": "stdout",
     "output_type": "stream",
     "text": [
      "Training Data Generated\n",
      "Testing Data Generated\n"
     ]
    }
   ],
   "source": [
    "data_creation(training_path,0)\n",
    "print('Training Data Generated')\n",
    "data_creation(test_path,1)\n",
    "print('Testing Data Generated')"
   ]
  },
  {
   "cell_type": "markdown",
   "id": "632167fe",
   "metadata": {},
   "source": [
    "Single Gaussian Model"
   ]
  },
  {
   "cell_type": "code",
   "execution_count": 102,
   "id": "a56e718e",
   "metadata": {},
   "outputs": [],
   "source": [
    "from sklearn.metrics import roc_curve\n",
    "from sklearn.metrics import auc\n",
    "import matplotlib.pyplot as plt\n",
    "from numpy.linalg import pinv\n",
    "from numpy.linalg import det\n",
    "import os"
   ]
  },
  {
   "cell_type": "code",
   "execution_count": 103,
   "id": "70f474b8",
   "metadata": {},
   "outputs": [],
   "source": [
    "def create_gauss_pdf(X,mean,covariance):\n",
    "    pdf = -0.5*(np.dot(np.dot((X - mean).T,np.linalg.inv(covariance)),(X - mean))) - 0.5*np.log(np.linalg.det(covariance))\n",
    "    return pdf"
   ]
  },
  {
   "cell_type": "code",
   "execution_count": 104,
   "id": "bb9f5b83",
   "metadata": {},
   "outputs": [],
   "source": [
    "normalizing_factor = 50\n",
    "\n",
    "facePath = \"Data Generated/face_training/\"\n",
    "nonFacePath = \"Data Generated/nonface_training/\"\n",
    "\n",
    "tfacePath = \"Data Generated/face_testing/\"\n",
    "tnonFacePath = \"Data Generated/nonface_testing/\"\n",
    "\n",
    "fDirs = os.listdir(facePath)\n",
    "nfDirs = os.listdir(nonFacePath)\n",
    "\n",
    "tfDirs = os.listdir(tfacePath)\n",
    "tnfDirs = os.listdir(tnonFacePath)"
   ]
  },
  {
   "cell_type": "code",
   "execution_count": 105,
   "id": "a50e4e01",
   "metadata": {},
   "outputs": [],
   "source": [
    "#Face data modelling\n",
    "fResized = []\n",
    "#fCov2 = 0\n",
    "for item in fDirs:\n",
    "    if os.path.isfile(facePath+item):\n",
    "        fImage = cv2.imread(facePath+item)\n",
    "        fImage = cv2.cvtColor(fImage,cv2.COLOR_BGR2GRAY)\n",
    "        fResize2 = cv2.resize(fImage,(10,10),interpolation = cv2.INTER_LINEAR)\n",
    "        fResize = (fResize2.reshape((100,1)))/normalizing_factor\n",
    "        fResized.append(fResize)\n",
    "        \n",
    "fMean = np.sum(fResized,0)/len(fResized)\n",
    "fCov2 = np.zeros((100,100),dtype = 'float64')\n",
    "for i in range(1000):    \n",
    "    f_cov = np.dot((fResized[i] - fMean),(fResized[i] - fMean).T)\n",
    "    fCov2 = f_cov + fCov2\n",
    "fCov2 = fCov2/1000 #+ np.exp(-1*6)\n",
    "fCov2 = np.diag(np.diag(fCov2))\n",
    "\n",
    "fCov_temp = np.diagonal(fCov2).reshape(10,10) * normalizing_factor"
   ]
  },
  {
   "cell_type": "code",
   "execution_count": 116,
   "id": "7ffc2c3c",
   "metadata": {},
   "outputs": [],
   "source": [
    "#Non-Face data modelling    \n",
    "nfResized = []\n",
    "for item in nfDirs:\n",
    "    if os.path.isfile(nonFacePath+item):\n",
    "        nfImage = cv2.imread(nonFacePath+item)\n",
    "        nfImage = nfImage[:,:,0]#cv2.cvtColor(nfImage,cv2.COLOR_BGR2GRAY)\n",
    "        nfResize2 = cv2.resize(nfImage,(10,10),interpolation = cv2.INTER_LINEAR)\n",
    "        nfResize = (nfResize2.reshape((100,1)))/normalizing_factor #+ np.exp(-1*6)\n",
    "        nfResized.append(nfResize)\n",
    "nfMean = np.sum(nfResized,0)/len(nfResized)\n",
    "\n",
    "nfCov2 = np.zeros((100,100),dtype = 'float64')\n",
    "for i in range(1000):    \n",
    "    nf_cov = np.dot((nfResized[i] - nfMean),(nfResized[i] - nfMean).T)\n",
    "    nfCov2 = nf_cov + nfCov2\n",
    "nfCov2  = nfCov2/1000\n",
    "nfCov2 = np.diag(np.diag(nfCov2))\n",
    "\n",
    "nfCov_temp = np.diagonal(nfCov2).reshape(10,10)"
   ]
  },
  {
   "cell_type": "code",
   "execution_count": 125,
   "id": "8695fc3f",
   "metadata": {},
   "outputs": [
    {
     "name": "stdout",
     "output_type": "stream",
     "text": [
      "Visualizing Mean\n"
     ]
    },
    {
     "data": {
      "image/png": "[encoded data removed]",
      "text/plain": [
       "<Figure size 432x288 with 1 Axes>"
      ]
     },
     "metadata": {
      "needs_background": "light"
     },
     "output_type": "display_data"
    },
    {
     "name": "stdout",
     "output_type": "stream",
     "text": [
      "Visualizing Covariance Diag\n"
     ]
    },
    {
     "data": {
      "image/png": "[encoded data removed]",
      "text/plain": [
       "<Figure size 432x288 with 1 Axes>"
      ]
     },
     "metadata": {
      "needs_background": "light"
     },
     "output_type": "display_data"
    }
   ],
   "source": [
    "#Display mean and covariance for face data\n",
    "Mean = cv2.resize((fMean*normalizing_factor).reshape(10,10),(100,100)).astype('uint8')\n",
    "print(\"Visualizing Mean\")\n",
    "plt.imshow(Mean,cmap=\"gray\")\n",
    "plt.show()\n",
    "Covariance = cv2.resize((fCov2),(100,100)).astype('uint8')\n",
    "print(\"Visualizing Covariance Diag\")\n",
    "plt.imshow(Covariance,cmap=\"gray\")\n",
    "plt.show()\n",
    "#Covariance = cv2.resize((fCov_temp),(100,100)).astype('uint8')\n",
    "#print(\"Visualizing Covariance\")\n",
    "#plt.imshow(Covariance,cmap=\"gray\")\n",
    "#plt.show()"
   ]
  },
  {
   "cell_type": "code",
   "execution_count": 127,
   "id": "49d7c519",
   "metadata": {},
   "outputs": [
    {
     "name": "stdout",
     "output_type": "stream",
     "text": [
      "Visualizing Mean\n"
     ]
    },
    {
     "data": {
      "image/png": "[encoded data removed]",
      "text/plain": [
       "<Figure size 432x288 with 1 Axes>"
      ]
     },
     "metadata": {
      "needs_background": "light"
     },
     "output_type": "display_data"
    },
    {
     "name": "stdout",
     "output_type": "stream",
     "text": [
      "Visualizing Covariance Diag\n"
     ]
    },
    {
     "data": {
      "image/png": "[encoded data removed]",
      "text/plain": [
       "<Figure size 432x288 with 1 Axes>"
      ]
     },
     "metadata": {
      "needs_background": "light"
     },
     "output_type": "display_data"
    }
   ],
   "source": [
    "#Display mean and covariance for non face data\n",
    "Mean = cv2.resize((nfMean*normalizing_factor).reshape(10,10),(100,100)).astype('uint8')\n",
    "print(\"Visualizing Mean\")\n",
    "plt.imshow(Mean,cmap=\"gray\")\n",
    "plt.show()\n",
    "Covariance = cv2.resize((nfCov2),(100,100)).astype('uint8')\n",
    "print(\"Visualizing Covariance Diag\")\n",
    "plt.imshow(Covariance,cmap=\"gray\")\n",
    "plt.show()\n",
    "# Covariance = cv2.resize((nfCov_temp),(100,100)).astype('uint8')\n",
    "# print(\"Visualizing Covariance\")\n",
    "# plt.imshow(Covariance,cmap=\"gray\")\n",
    "# plt.show()"
   ]
  },
  {
   "cell_type": "code",
   "execution_count": null,
   "id": "5467d390",
   "metadata": {},
   "outputs": [],
   "source": [
    "countFace = 0\n",
    "countNonFace = 0\n",
    "\n",
    "y_score = np.zeros((200,1))\n",
    "y_true = np.zeros((200,1))\n",
    "\n",
    "probFaceFace = []\n",
    "probFaceNonface = []\n",
    "probNonfaceFace = []\n",
    "probNonfaceNonface = []"
   ]
  },
  {
   "cell_type": "code",
   "execution_count": null,
   "id": "42f2ed3b",
   "metadata": {},
   "outputs": [],
   "source": [
    "for item in tfDirs:\n",
    "    if os.path.isfile(tfacePath+item):\n",
    "        tfImage = cv2.imread(tfacePath+item)\n",
    "        tfImage = cv2.cvtColor(tfImage,cv2.COLOR_BGR2GRAY)\n",
    "        tfResize2 = cv2.resize(tfImage,(10,10),interpolation = cv2.INTER_LINEAR)\n",
    "        tfResize = (tfResize2.reshape((100,1)))/normalizing_factor\n",
    "        p1 = create_gauss_pdf(tfResize,fMean, fCov2)\n",
    "        p2 = create_gauss_pdf(tfResize,nfMean, nfCov2)\n",
    "\n",
    "        probFaceFace.append((p1/(p1+p2)).squeeze())\n",
    "        probFaceNonface.append((p2/(p1+p2)).squeeze())\n",
    "        \n",
    "        if(p1 >= p2):\n",
    "            countFace += 1\n",
    "\n",
    "print(\"True Positives:\", countFace)\n",
    "print(\"False Negatives:\", 100 - countFace)"
   ]
  },
  {
   "cell_type": "code",
   "execution_count": null,
   "id": "6ef6a9af",
   "metadata": {},
   "outputs": [],
   "source": [
    "for item in tnfDirs:\n",
    "    if os.path.isfile(tnonFacePath+item):\n",
    "        tnfImage = cv2.imread(tnonFacePath+item)\n",
    "        tnfImage = cv2.cvtColor(tnfImage,cv2.COLOR_BGR2GRAY)\n",
    "        tnfResize2 = cv2.resize(tnfImage,(10,10),interpolation = cv2.INTER_LINEAR)\n",
    "        tnfResize = (tnfResize2.reshape((100,1)))/normalizing_factor\n",
    "        \n",
    "        p1_ = create_gauss_pdf(tnfResize,fMean, fCov2)\n",
    "        p2_ = create_gauss_pdf(tnfResize,nfMean, nfCov2)\n",
    "        \n",
    "        probNonfaceFace.append((p1_/(p1_+p2_)).squeeze())\n",
    "        probNonfaceNonface.append((p2_/(p1_+p2_)).squeeze())\n",
    "        \n",
    "        if(p2_ >= p1_):\n",
    "            countNonFace += 1\n",
    "        \n",
    "print(\"True Negatives:\",countNonFace)\n",
    "print(\"False Positives:\", 100 - countNonFace)\n"
   ]
  },
  {
   "cell_type": "code",
   "execution_count": null,
   "id": "8c772068",
   "metadata": {},
   "outputs": [],
   "source": [
    "print(\"Accuracy:\", (countFace + countNonFace)/200)\n",
    "print(\"Misclassification Rate:\",(200 - (countFace + countNonFace)) / 200)"
   ]
  },
  {
   "cell_type": "code",
   "execution_count": null,
   "id": "be9524f7",
   "metadata": {},
   "outputs": [],
   "source": [
    "y_true = np.concatenate((np.ones(100),  np.zeros(100)))\n",
    "y_score = np.concatenate((probFaceFace,probNonfaceFace))\n"
   ]
  },
  {
   "cell_type": "code",
   "execution_count": null,
   "id": "f8a8f3b2",
   "metadata": {},
   "outputs": [],
   "source": [
    "tpr, fpr, thresholds = roc_curve(y_true, y_score)"
   ]
  },
  {
   "cell_type": "code",
   "execution_count": null,
   "id": "1448b844",
   "metadata": {},
   "outputs": [],
   "source": [
    "plt.plot(fpr, tpr)\n",
    "plt.plot([0, 1], [0, 1], 'k--')  # random predictions curve\n",
    "plt.xlim([0.0, 1.0])\n",
    "plt.ylim([0.0, 1.0])\n",
    "plt.xlabel('False Positive Rate or (1 - Specifity)')\n",
    "plt.ylabel('True Positive Rate or (Sensitivity)')\n",
    "plt.title('Receiver Operating Characteristic')"
   ]
  },
  {
   "cell_type": "code",
   "execution_count": null,
   "id": "20427b03",
   "metadata": {},
   "outputs": [],
   "source": []
  }
 ],
 "metadata": {
  "kernelspec": {
   "display_name": "Python 3 (ipykernel)",
   "language": "python",
   "name": "python3"
  },
  "language_info": {
   "codemirror_mode": {
    "name": "ipython",
    "version": 3
   },
   "file_extension": ".py",
   "mimetype": "text/x-python",
   "name": "python",
   "nbconvert_exporter": "python",
   "pygments_lexer": "ipython3",
   "version": "3.8.5"
  }
 },
 "nbformat": 4,
 "nbformat_minor": 5
}
