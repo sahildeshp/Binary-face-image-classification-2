{
 "cells": [
  {
   "cell_type": "markdown",
   "id": "b4d6c66a",
   "metadata": {},
   "source": [
    "**T - Distribution**"
   ]
  },
  {
   "cell_type": "code",
   "execution_count": 1,
   "id": "fc97a66f",
   "metadata": {},
   "outputs": [],
   "source": [
    "#Importing Libraries\n",
    "import os\n",
    "import cv2\n",
    "import numpy as np\n",
    "from scipy.special import gamma,digamma,gammaln\n",
    "from scipy.optimize import fminbound\n",
    "from sklearn.metrics import roc_curve\n",
    "import matplotlib.pyplot as plt"
   ]
  },
  {
   "cell_type": "code",
   "execution_count": 2,
   "id": "401658e9",
   "metadata": {},
   "outputs": [],
   "source": [
    "#Defining Data Paths\n",
    "np.random.seed(4)\n",
    "factor = 50\n",
    "\n",
    "facePath = \"Data Generated/face_training/\"\n",
    "nonFacePath = \"Data Generated/nonface_training/\"\n",
    "\n",
    "tfacePath = \"Data Generated/face_testing/\"\n",
    "tnonFacePath = \"Data Generated/nonface_testing/\""
   ]
  },
  {
   "cell_type": "code",
   "execution_count": 3,
   "id": "30ac2656",
   "metadata": {},
   "outputs": [],
   "source": [
    "#Defining T-Distribution PDF\n",
    "def t_dist_pdf(X,mean,covariance,v):\n",
    "    D = len(X)\n",
    "    val1 = gamma((v + D)/2) / ( ((v * np.pi)** (D/2)) *np.sqrt(np.linalg.det(covariance))*gamma(v/2) )\n",
    "    term = np.dot((X - mean).T, np.linalg.inv(covariance))\n",
    "    term_ = np.dot(term, (X - mean))\n",
    "    val2 = (1+ (term_/v))\n",
    "    pdf = val1 * ((val2)**(-(v+D)/2))\n",
    "    return pdf"
   ]
  },
  {
   "cell_type": "code",
   "execution_count": 4,
   "id": "25cc4346",
   "metadata": {},
   "outputs": [],
   "source": [
    "#Defining Expectationd and Maximization Algorithms\n",
    "\n",
    "#Expectation\n",
    "def expectation(X,mean,covariance,E_h,E_logh,v):\n",
    "    D = np.size(X,1)\n",
    "\n",
    "    for i in range(1000):\n",
    "        term_ = np.dot((X[i]- mean).T,np.linalg.inv(covariance))\n",
    "        term = np.dot(term_,(X[i]-mean))\n",
    "        E_h[i] = (v + D)/(v+term)\n",
    "        E_logh[i] = digamma((v + D)/2) - np.log((v + term)/2)\n",
    "    \n",
    "    return E_h, E_logh\n",
    "\n",
    "#Maximization\n",
    "def maximization(X,mean,covariance,E_h,E_logh,v):\n",
    "    num=0\n",
    "    den = 0\n",
    "    \n",
    "#Update mean\n",
    "    for i in range(len(X)):\n",
    "        num += E_h[i] * X[i] \n",
    "        den += E_h[i]\n",
    "    mean = num/den\n",
    "    \n",
    "#Update Covariance\n",
    "    num_ = 0\n",
    "    for i in range(len(X)):\n",
    "        term_ = np.dot((X[i] - mean),(X[i] - mean).T)\n",
    "        num_ += E_h[i] * term_\n",
    "    covariance = num_/den\n",
    "    covariance = np.diag(np.diag(covariance))\n",
    "\n",
    "Line search for v\n",
    "    v = fminbound(fcost,6,12,(E_h, E_logh,X, mean, covariance))\n",
    "    return mean, covariance, v"
   ]
  },
  {
   "cell_type": "code",
   "execution_count": 5,
   "id": "afd3bebf",
   "metadata": {},
   "outputs": [],
   "source": [
    "#Cost Function\n",
    "def fcost(v, E_h, E_logh, X, mean, covariance):\n",
    "    L = len(E_h)\n",
    "    t1 = (v/2) * np.log((v/2))\n",
    "    t2 = gammaln((v/2))\n",
    "    \n",
    "    finalCost = 0\n",
    "    for i in range(L):\n",
    "        t3 = ((v/2) - 1) * E_logh[i]\n",
    "        t4 = (v/2) * E_h[i]\n",
    "        finalCost = finalCost + t1 - t2 + t3 - t4 #+ t7\n",
    "    finalCost = -finalCost\n",
    "    return finalCost"
   ]
  },
  {
   "cell_type": "code",
   "execution_count": 6,
   "id": "7a55d0fc",
   "metadata": {
    "scrolled": true
   },
   "outputs": [],
   "source": [
    "#Face data modelling\n",
    "fResized = []\n",
    "\n",
    "for i in range(1,1001):\n",
    "    image_location = facePath + str(i) + \".jpg\"\n",
    "    fImage = cv2.imread(image_location)\n",
    "    fImage = cv2.cvtColor(fImage,cv2.COLOR_BGR2GRAY)\n",
    "    fResize2 = cv2.resize(fImage,(10,10),interpolation = cv2.INTER_LINEAR)\n",
    "    fResize = (fResize2.reshape((100,1)))/factor\n",
    "    fResized.append(fResize)\n",
    "    \n",
    "#Non-Face data modelling\n",
    "nfResized = []\n",
    "for i in range(1,1001):\n",
    "    image_location2 = nonFacePath + str(i) + \".jpg\"\n",
    "    nfImage = cv2.imread(image_location2)\n",
    "    nfImage = cv2.cvtColor(nfImage,cv2.COLOR_BGR2GRAY)\n",
    "    #nfImage = nfImage[:,:,0]\n",
    "    nfResize2 = cv2.resize(nfImage,(10,10),interpolation = cv2.INTER_LINEAR)\n",
    "    nfResize = (nfResize2.reshape((100,1)))/factor \n",
    "    nfResized.append(nfResize)"
   ]
  },
  {
   "cell_type": "code",
   "execution_count": 7,
   "id": "59bcea7a",
   "metadata": {},
   "outputs": [],
   "source": [
    "# Initializing\n",
    "D = len(fResized[0])\n",
    "means_f = np.zeros((D,1))\n",
    "covariances_f = np.array([np.random.uniform(low=0.0, high=1.0, size=(D,D)) * np.identity(D)]).reshape(D,D)\n",
    "v_f = 10\n",
    "E_hf = np.zeros(len(fResized))\n",
    "E_loghf = np.zeros(len(fResized))\n",
    "\n",
    "means_nf = np.zeros((D,1))\n",
    "covariances_nf = np.array([np.random.uniform(low=0.0, high=1.0, size=(D,D)) * np.identity(D)]).reshape(D,D)\n",
    "v_nf = 10\n",
    "E_hnf = np.zeros(len(nfResized))\n",
    "E_loghnf = np.zeros(len(nfResized))"
   ]
  },
  {
   "cell_type": "code",
   "execution_count": 8,
   "id": "e639802d",
   "metadata": {},
   "outputs": [],
   "source": [
    "# EM algorithm for face data\n",
    "\n",
    "for iter in range(10):\n",
    "    # Expectation\n",
    "    \n",
    "    E_hf, E_loghf = expectation(fResized,means_f,covariances_f,E_hf, E_loghf,v_f)\n",
    "    \n",
    "    # Maximization\n",
    "\n",
    "    means_f, covariances_f, v_f = maximization(fResized,means_f,covariances_f,E_hf, E_loghf,v_f)"
   ]
  },
  {
   "cell_type": "code",
   "execution_count": 9,
   "id": "bd54fcab",
   "metadata": {},
   "outputs": [],
   "source": [
    "# EM algorithm for non-face data\n",
    "\n",
    "for iter in range(10):\n",
    "    \n",
    "    # Expectation\n",
    "    \n",
    "    E_hnf, E_loghnf = expectation(nfResized,means_nf,covariances_nf,E_hnf, E_loghnf,v_nf)\n",
    "\n",
    "    # Maximization\n",
    "    \n",
    "    means_nf, covariances_nf, v_nf = maximization(nfResized,means_nf,covariances_nf,E_hnf, E_loghnf,v_nf)"
   ]
  },
  {
   "cell_type": "code",
   "execution_count": 10,
   "id": "3af20373",
   "metadata": {},
   "outputs": [],
   "source": [
    "probFaceFace = []\n",
    "probFaceNonface = []\n",
    "probNonfaceFace = []\n",
    "probNonfaceNonface = []"
   ]
  },
  {
   "cell_type": "code",
   "execution_count": 11,
   "id": "7e9b8d5c",
   "metadata": {},
   "outputs": [],
   "source": [
    "countFace = 0\n",
    "\n",
    "for i in range(1,101):\n",
    "        tf_image_location = tfacePath + str(i) + \".jpg\"\n",
    "        tfImage = cv2.imread(tf_image_location)\n",
    "        tfImage = cv2.cvtColor(tfImage,cv2.COLOR_BGR2GRAY)\n",
    "        tfResize2 = cv2.resize(tfImage,(10,10),interpolation = cv2.INTER_LINEAR)\n",
    "        tfResize = (tfResize2.reshape((100,1)))/factor\n",
    "        ll_f = t_dist_pdf(tfResize,means_f,covariances_f,v_f)\n",
    "        ll_nf = t_dist_pdf(tfResize,means_nf,covariances_nf,v_nf)\n",
    "\n",
    "        probFaceFace.append((ll_f/(ll_f + ll_nf)).squeeze())\n",
    "        probFaceNonface.append((ll_nf/(ll_f + ll_nf)).squeeze())\n",
    "        if(ll_f > ll_nf):\n",
    "            countFace += 1"
   ]
  },
  {
   "cell_type": "code",
   "execution_count": 12,
   "id": "e0a84b3f",
   "metadata": {},
   "outputs": [],
   "source": [
    "countNonFace = 0\n",
    "\n",
    "for i in range(1,101):\n",
    "        tnf_image_location = tnonFacePath + str(i) + \".jpg\"\n",
    "        tnfImage = cv2.imread(tnf_image_location)\n",
    "        tnfImage = cv2.cvtColor(tnfImage,cv2.COLOR_BGR2GRAY)\n",
    "        tnfResize2 = cv2.resize(tnfImage,(10,10),interpolation = cv2.INTER_LINEAR)\n",
    "        tnfResize = (tnfResize2.reshape((100,1)))/factor\n",
    "        ll_f = t_dist_pdf(tnfResize,means_f,covariances_f,v_f)\n",
    "        ll_nf = t_dist_pdf(tnfResize,means_nf,covariances_nf,v_nf)\n",
    "        probNonfaceFace.append((ll_f/(ll_f + ll_nf)).squeeze())\n",
    "        probNonfaceNonface.append((ll_nf/(ll_f + ll_nf)).squeeze())\n",
    "        if(ll_nf > ll_f):\n",
    "            countNonFace += 1"
   ]
  },
  {
   "cell_type": "code",
   "execution_count": 13,
   "id": "4b892beb",
   "metadata": {},
   "outputs": [],
   "source": [
    "y_true = np.concatenate((np.ones(100),  np.zeros(100)))\n",
    "y_score = np.concatenate(( probFaceFace,  probNonfaceFace))\n",
    "\n",
    "fpr, tpr, thresholds = roc_curve(y_true, y_score)"
   ]
  },
  {
   "cell_type": "code",
   "execution_count": 14,
   "id": "3f78aa8c",
   "metadata": {},
   "outputs": [
    {
     "name": "stdout",
     "output_type": "stream",
     "text": [
      "Mean for face data\n"
     ]
    },
    {
     "data": {
      "image/png": "[encoded data removed]",
      "text/plain": [
       "<Figure size 432x288 with 1 Axes>"
      ]
     },
     "metadata": {
      "needs_background": "light"
     },
     "output_type": "display_data"
    },
    {
     "name": "stdout",
     "output_type": "stream",
     "text": [
      "Covariance for face data\n"
     ]
    },
    {
     "data": {
      "image/png": "[encoded data removed]",
      "text/plain": [
       "<Figure size 432x288 with 1 Axes>"
      ]
     },
     "metadata": {
      "needs_background": "light"
     },
     "output_type": "display_data"
    },
    {
     "name": "stdout",
     "output_type": "stream",
     "text": [
      "Mean for non-face data\n"
     ]
    },
    {
     "data": {
      "image/png": "[encoded data removed]",
      "text/plain": [
       "<Figure size 432x288 with 1 Axes>"
      ]
     },
     "metadata": {
      "needs_background": "light"
     },
     "output_type": "display_data"
    },
    {
     "name": "stdout",
     "output_type": "stream",
     "text": [
      "Covariance for face data\n"
     ]
    },
    {
     "data": {
      "image/png": "[encoded data removed]",
      "text/plain": [
       "<Figure size 432x288 with 1 Axes>"
      ]
     },
     "metadata": {
      "needs_background": "light"
     },
     "output_type": "display_data"
    },
    {
     "name": "stdout",
     "output_type": "stream",
     "text": [
      "True Positives: 94\n",
      "False Negatives: 6\n",
      "True Negatives: 43\n",
      "False Positives: 57\n",
      "Accuracy: 0.685\n",
      "Misclassification Rate: 0.315\n"
     ]
    },
    {
     "data": {
      "text/plain": [
       "Text(0.5, 1.0, 'Receiver Operating Characteristics')"
      ]
     },
     "execution_count": 14,
     "metadata": {},
     "output_type": "execute_result"
    },
    {
     "data": {
      "image/png": "[encoded data removed]",
      "text/plain": [
       "<Figure size 432x288 with 1 Axes>"
      ]
     },
     "metadata": {
      "needs_background": "light"
     },
     "output_type": "display_data"
    }
   ],
   "source": [
    "#Display mean and covariance for face data\n",
    "Mean_Face = cv2.resize((means_f*factor).reshape(10,10),(20,20)).astype('uint8')\n",
    "print(\"Mean for face data\")\n",
    "plt.imshow(Mean_Face,cmap=\"gray\")\n",
    "plt.show()\n",
    "Covar_Face = (covariances_f*factor).astype('uint8')\n",
    "print(\"Covariance for face data\")\n",
    "plt.imshow(Covar_Face,cmap=\"gray\")\n",
    "plt.show()\n",
    "\n",
    "# cv2.imwrite(\"Mean_F_t.jpg\",cv2.resize((means_f*factor).reshape(10,10),(20,20)).astype('uint8'))\n",
    "# cv2.imwrite(\"Covariance_F_t.jpg\",(covariances_f*factor).astype('uint8'))\n",
    "\n",
    "\n",
    "#Display mean and covariance for non-face data\n",
    "\n",
    "Mean_NonFace = cv2.resize((means_nf*factor).reshape(10,10),(100,100)).astype('uint8')\n",
    "print(\"Mean for non-face data\")\n",
    "plt.imshow(Mean_NonFace,cmap=\"gray\")\n",
    "plt.show()\n",
    "Covar_NonFace = (covariances_nf*factor).astype('uint8')\n",
    "print(\"Covariance for face data\")\n",
    "plt.imshow(Covar_NonFace,cmap=\"gray\")\n",
    "plt.show()\n",
    "\n",
    "# cv2.imwrite(\"Mean_NF_t.jpg\",cv2.resize((means_nf*factor).reshape(10,10),(100,100)).astype('uint8'))\n",
    "# cv2.imwrite(\"Covariance_NF_t.jpg\",(covariances_nf*factor).astype('uint8'))\n",
    "\n",
    "print(\"True Positives:\", countFace)\n",
    "print(\"False Negatives:\", 100 - countFace)\n",
    "\n",
    "print(\"True Negatives:\",countNonFace)\n",
    "print(\"False Positives:\", 100 - countNonFace)\n",
    "\n",
    "print(\"Accuracy:\", (countFace + countNonFace)/200)\n",
    "print(\"Misclassification Rate:\",(200 - (countFace + countNonFace)) / 200)\n",
    "\n",
    "plt.plot(fpr, tpr)\n",
    "plt.xlim([0.0, 1.0])\n",
    "plt.ylim([0.0, 1.0])\n",
    "plt.xlabel('False Positive Rate')\n",
    "plt.ylabel('True Positive Rate')\n",
    "plt.title('Receiver Operating Characteristics')"
   ]
  }
 ],
 "metadata": {
  "kernelspec": {
   "display_name": "Python 3 (ipykernel)",
   "language": "python",
   "name": "python3"
  },
  "language_info": {
   "codemirror_mode": {
    "name": "ipython",
    "version": 3
   },
   "file_extension": ".py",
   "mimetype": "text/x-python",
   "name": "python",
   "nbconvert_exporter": "python",
   "pygments_lexer": "ipython3",
   "version": "3.8.5"
  }
 },
 "nbformat": 4,
 "nbformat_minor": 5
}
